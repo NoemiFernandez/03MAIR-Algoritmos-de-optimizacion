{
  "nbformat": 4,
  "nbformat_minor": 0,
  "metadata": {
    "colab": {
      "name": "Noemi_Fernandez_AG2.ipynb",
      "version": "0.3.2",
      "provenance": [],
      "include_colab_link": true
    },
    "kernelspec": {
      "name": "python3",
      "display_name": "Python 3"
    }
  },
  "cells": [
    {
      "cell_type": "markdown",
      "metadata": {
        "id": "view-in-github",
        "colab_type": "text"
      },
      "source": [
        "<a href=\"https://colab.research.google.com/github/NoemiFernandez/03MAIR-Algoritmos-de-optimizacion/blob/master/AG2/Noemi_Fernandez_AG2.ipynb\" target=\"_parent\"><img src=\"https://colab.research.google.com/assets/colab-badge.svg\" alt=\"Open In Colab\"/></a>"
      ]
    },
    {
      "metadata": {
        "id": "vQMgF0yLHwND",
        "colab_type": "text"
      },
      "cell_type": "markdown",
      "source": [
        "Noemi Fernández - AG2\n",
        "\n",
        "Actividad Guiada 2\n",
        "\n",
        "URL: https://github.com/NoemiFernandez/03MAIR-Algoritmos-de-optimizacion/blob/master/AG2/Noemi_Fernandez_AG2.ipynb\n"
      ]
    },
    {
      "metadata": {
        "id": "_qQMgvQBKCOw",
        "colab_type": "code",
        "outputId": "c08ef67b-0cdf-4b8e-bbd8-3b349bfaefdc",
        "colab": {
          "base_uri": "https://localhost:8080/",
          "height": 54
        }
      },
      "cell_type": "code",
      "source": [
        "import random\n",
        "import math\n",
        "\n",
        "\n",
        "N=100\n",
        "\n",
        "LISTA_2D =[(random.randrange(1,N*10),random.randrange(1,N*10))   for _ in range(N)]\n",
        "print(LISTA_2D)"
      ],
      "execution_count": 0,
      "outputs": [
        {
          "output_type": "stream",
          "text": [
            "[(91, 547), (414, 62), (708, 740), (834, 566), (798, 929), (958, 190), (281, 551), (457, 420), (199, 395), (907, 43), (826, 505), (891, 896), (185, 871), (674, 683), (861, 383), (853, 534), (38, 392), (148, 248), (912, 243), (350, 754), (783, 849), (847, 505), (378, 562), (330, 812), (896, 591), (672, 739), (686, 667), (275, 335), (132, 822), (123, 408), (66, 811), (48, 103), (384, 852), (268, 974), (546, 891), (14, 428), (88, 176), (12, 937), (483, 288), (401, 83), (226, 703), (39, 667), (268, 223), (990, 178), (20, 886), (450, 187), (318, 535), (76, 649), (936, 547), (736, 179), (779, 736), (252, 432), (151, 104), (838, 444), (169, 125), (556, 632), (86, 705), (322, 733), (64, 917), (326, 425), (815, 288), (253, 159), (908, 803), (639, 200), (164, 453), (645, 828), (417, 223), (6, 655), (506, 631), (132, 72), (557, 715), (269, 883), (212, 808), (571, 932), (727, 326), (119, 917), (267, 534), (697, 302), (753, 778), (390, 199), (319, 650), (988, 402), (498, 550), (85, 789), (732, 327), (709, 622), (941, 662), (194, 913), (355, 319), (298, 23), (898, 656), (510, 105), (325, 483), (222, 202), (452, 226), (207, 509), (953, 257), (736, 227), (234, 645), (611, 352)]\n"
          ],
          "name": "stdout"
        }
      ]
    },
    {
      "metadata": {
        "id": "fp0MUVw9N7WE",
        "colab_type": "code",
        "colab": {}
      },
      "cell_type": "code",
      "source": [
        "#Decorador para calcular_tiempo a la función para la cual queremos calcular el tiempo de ejecución(Isabel Vázquez)\n",
        "\n",
        "from time import time\n",
        "#Función para calcular el tiempo de ejecución\n",
        "def calcular_tiempo(f):\n",
        "   \n",
        "    def wrapper(*args, **kwargs):        \n",
        "        inicio = time()       \n",
        "        resultado = f(*args, **kwargs)       \n",
        "        tiempo = time() - inicio\n",
        "        print(\"Tiempo de ejecución para algoritmo: \"+str(tiempo))\n",
        "        return resultado\n",
        "    \n",
        "    return wrapper\n",
        "from time import time"
      ],
      "execution_count": 0,
      "outputs": []
    },
    {
      "metadata": {
        "id": "GyY_u_60H57B",
        "colab_type": "code",
        "outputId": "f1cfdd8a-8c62-4f8e-c53a-4cd7f170c587",
        "colab": {
          "base_uri": "https://localhost:8080/",
          "height": 34
        }
      },
      "cell_type": "code",
      "source": [
        "def distancia(A,B):\n",
        "  if type(A) is int or type(A) is float:   #Saber si B es int o float también --añadir--\n",
        "    return abs(B-A)\n",
        "  else:\n",
        "    #Distancia euclídea\n",
        "    return math.sqrt(sum([(A[i]-B[i])**2 for i in range(len(A))]))\n",
        "  \n",
        "distancia((1,3), (2,5))\n",
        "  "
      ],
      "execution_count": 0,
      "outputs": [
        {
          "output_type": "execute_result",
          "data": {
            "text/plain": [
              "2.23606797749979"
            ]
          },
          "metadata": {
            "tags": []
          },
          "execution_count": 14
        }
      ]
    },
    {
      "metadata": {
        "id": "41UBgbmNLt7O",
        "colab_type": "code",
        "outputId": "0b0941db-48cf-4eb7-b4ae-b317099cae62",
        "colab": {
          "base_uri": "https://localhost:8080/",
          "height": 34
        }
      },
      "cell_type": "code",
      "source": [
        "#Fuerza Bruta\n",
        "\n",
        "def distancia_fuerza_bruta(L):\n",
        "  mejor_distancia = 10000e10  \n",
        "  \n",
        "  A,B=(),()\n",
        "  \n",
        "  for i in range(len(L)):\n",
        "    for j in range(i+1, len(L)):\n",
        "      if distancia(L[i],L[j]) < mejor_distancia:\n",
        "        A,B=L[i],L[j]\n",
        "        mejor_distancia= distancia(L[i],L[j])\n",
        "  return [A,B]\n",
        "distancia_fuerza_bruta(LISTA_2D)\n",
        "        "
      ],
      "execution_count": 0,
      "outputs": [
        {
          "output_type": "execute_result",
          "data": {
            "text/plain": [
              "[(727, 326), (732, 327)]"
            ]
          },
          "metadata": {
            "tags": []
          },
          "execution_count": 27
        }
      ]
    },
    {
      "metadata": {
        "id": "V1aMC8mDPpKB",
        "colab_type": "code",
        "outputId": "b53283f3-f944-424a-c8f2-635c79b23a41",
        "colab": {
          "base_uri": "https://localhost:8080/",
          "height": 51
        }
      },
      "cell_type": "code",
      "source": [
        "#Divide y Vencerás\n",
        "def distancia_divide_y_venceras(L):\n",
        "  #Si hay una lista pequeña, se resuelve por fuerza bruta\n",
        "  if len(L)<=10:\n",
        "    return distancia_fuerza_bruta(L)\n",
        "  \n",
        "  #Para listas grandes:\n",
        "  #Dividimos por la primera coordenada\n",
        "  pivote= sum([L[i][0] for i in range(len(L))]) /len(L)   #Tomamos la media como pivote\n",
        "  \n",
        "  LISTA_IZQ = sorted(L, key=lambda x: x[0])[:len(L)//2]   #Algoritmo de ordenación sorted\n",
        "  LISTA_DER = sorted(L, key=lambda x: x[0])[len(L)//2:]   #SE ORDENA 2 VECES, ORDENAR 1 Y DIVIDIRLA EN 2 -AÑADIR-\n",
        "  \n",
        "  return distancia_divide_y_venceras(distancia_divide_y_venceras(LISTA_IZQ)+distancia_divide_y_venceras(LISTA_DER))\n",
        "\n",
        "@calcular_tiempo\n",
        "def LANZA(L):\n",
        "  return distancia_divide_y_venceras(L)\n",
        "  \n",
        "print(LANZA(LISTA_2D))\n"
      ],
      "execution_count": 0,
      "outputs": [
        {
          "output_type": "stream",
          "text": [
            "Tiempo de ejecución para algoritmo: 0.001485586166381836\n",
            "[(727, 326), (732, 327)]\n"
          ],
          "name": "stdout"
        }
      ]
    },
    {
      "metadata": {
        "id": "y2ou12H_V1MU",
        "colab_type": "code",
        "outputId": "c4865de1-18a8-498d-bbf8-758868115764",
        "colab": {
          "base_uri": "https://localhost:8080/",
          "height": 139
        }
      },
      "cell_type": "code",
      "source": [
        "#Programación Dinámica\n",
        "\n",
        "TARIFAS = [\n",
        "[0,5,4,3,999,999,999],\n",
        "[999,0,999,2,3,999,11],\n",
        "[999,999, 0,1,999,4,10],\n",
        "[999,999,999, 0,5,6,9],\n",
        "[999,999, 999,999,0,999,4],\n",
        "[999,999, 999,999,999,0,3],\n",
        "[999,999,999,999,999,999,0]\n",
        "]\n",
        "\n",
        "#Paseo por el río\n",
        "def Precios(TARIFAS):\n",
        "  N= len(TARIFAS[0])\n",
        "  \n",
        "  #Inicializamos una tabla de precios\n",
        "  PRECIOS= [[9999]*N for i in [9999]*N] #Matriz con 9999\n",
        "  RUTA=[ [\"\"]*N for i in [\"\"]*N] #Matriz con \"\"\n",
        "  \n",
        "  for i in range(N-1):\n",
        "    for j in range(i+1,N):\n",
        "      MIN= TARIFAS[i][j] #Valores temporales de inicialización\n",
        "      RUTA[i][j]=i\n",
        "      \n",
        "      for k in range(i,j):\n",
        "        if PRECIOS[i][k] + TARIFAS[k][j] < MIN:\n",
        "          MIN=min(MIN, PRECIOS[i][k]+TARIFAS[k][j])\n",
        "          RUTA[i][j]=k\n",
        "        PRECIOS[i][j]=MIN\n",
        "        \n",
        "        \n",
        "  return PRECIOS,RUTA\n",
        "  \n",
        "PRECIOS,RUTA= Precios(TARIFAS)\n",
        "\n",
        "print(str(PRECIOS) +'\\n')\n",
        "print(RUTA)\n",
        "\n",
        "\n",
        "def calcular_ruta(RUTA, desde, hasta):\n",
        "  if desde == hasta:\n",
        "    #print(\"Ir a :\" + str(desde))\n",
        "    return desde \n",
        "  else:\n",
        "    return str(calcular_ruta(RUTA, desde, RUTA[desde][hasta])) +  ',' + str(RUTA[desde][hasta]) \n",
        "\n",
        "print(\"\\nLa ruta es:\")  \n",
        "calcular_ruta(RUTA, 0,6)"
      ],
      "execution_count": 0,
      "outputs": [
        {
          "output_type": "stream",
          "text": [
            "[[9999, 5, 4, 3, 8, 8, 11], [9999, 9999, 999, 2, 3, 8, 7], [9999, 9999, 9999, 1, 6, 4, 7], [9999, 9999, 9999, 9999, 5, 6, 9], [9999, 9999, 9999, 9999, 9999, 999, 4], [9999, 9999, 9999, 9999, 9999, 9999, 3], [9999, 9999, 9999, 9999, 9999, 9999, 9999]]\n",
            "\n",
            "[['', 0, 0, 0, 1, 2, 5], ['', '', 1, 1, 1, 3, 4], ['', '', '', 2, 3, 2, 5], ['', '', '', '', 3, 3, 3], ['', '', '', '', '', 4, 4], ['', '', '', '', '', '', 5], ['', '', '', '', '', '', '']]\n",
            "\n",
            "La ruta es:\n"
          ],
          "name": "stdout"
        },
        {
          "output_type": "execute_result",
          "data": {
            "text/plain": [
              "'0,0,2,5'"
            ]
          },
          "metadata": {
            "tags": []
          },
          "execution_count": 35
        }
      ]
    }
  ]
}