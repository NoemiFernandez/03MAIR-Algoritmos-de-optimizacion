{
  "nbformat": 4,
  "nbformat_minor": 0,
  "metadata": {
    "colab": {
      "name": "Seminario-NoemiFernandez.ipynb",
      "version": "0.3.2",
      "provenance": [],
      "collapsed_sections": [],
      "include_colab_link": true
    },
    "kernelspec": {
      "name": "python3",
      "display_name": "Python 3"
    }
  },
  "cells": [
    {
      "cell_type": "markdown",
      "metadata": {
        "id": "view-in-github",
        "colab_type": "text"
      },
      "source": [
        "<a href=\"https://colab.research.google.com/github/NoemiFernandez/03MAIR-Algoritmos-de-optimizacion/blob/master/SEMINARIOS/Seminario_NoemiFernandez.ipynb\" target=\"_parent\"><img src=\"https://colab.research.google.com/assets/colab-badge.svg\" alt=\"Open In Colab\"/></a>"
      ]
    },
    {
      "metadata": {
        "id": "hVbXYX-RfPWh",
        "colab_type": "text"
      },
      "cell_type": "markdown",
      "source": [
        "# Algoritmos de optimización - Seminario<br>\n",
        "Nombre y Apellidos:   Noemi Fernández Gil<br>\n",
        "Url:https://github.com/NoemiFernandez/03MAIR-Algoritmos-de-optimizacion/blob/master/SEMINARIOS/Seminario_NoemiFernandez.ipynb<br>\n",
        "Problema:\n",
        "\n",
        "> 2- Organizar los horarios de partidos de La Liga<br>\n",
        "\n",
        "\n",
        "Descripción del problema:(copiar enunciado)\n",
        "\n",
        "Desde la La Liga de fútbol profesional se pretende organizar los horarios de los partidos\n",
        "de liga de de cada jornada. Se conocen algunos datos que nos deben llevar a diseñar un\n",
        "algoritmo que realice la asignación de los partidos a los horarios que maximice la\n",
        "audiencia.<br>\n",
        "En primer lugar se clasifican los equipos en tres categorías según el numero de\n",
        "seguidores que tienen relación directa con la audiencia. Hay 4 equipos en la\n",
        "categoría A, 10 equipos de categoría B y 6 equipos de categoría C.<br>\n",
        "• Se conoce estadísticamente la audiencia que genera cada partido según los equipos\n",
        "que se enfrentan y en horario de sábado a las 20h (el mejor en todos los casos)<br>\n",
        "Si el horario del partido no se realiza a las 20 horas del sábado se sabe que se reduce\n",
        "según los coeficientes de la siguiente tabla:<br>\n",
        "• Debemos asignar obligatoriamente siempre un partido el viernes y un partido el lunes<br>\n",
        "Viernes Sábado Domingo Lunes<br>\n",
        "12h - 0.55 0.45 -\n",
        "16h - 0.7 0.75 -\n",
        "18h - 0.8 0.85 -\n",
        "20h 0.4 1 1 0.4\n",
        "\n",
        "(*) La respuesta es obligatoria\n",
        "\n",
        "\n",
        "\n",
        "\n",
        "\n",
        "                                        "
      ]
    },
    {
      "metadata": {
        "id": "AiskKkzZfy4e",
        "colab_type": "code",
        "colab": {}
      },
      "cell_type": "code",
      "source": [
        ""
      ],
      "execution_count": 0,
      "outputs": []
    },
    {
      "metadata": {
        "id": "3_-exlrTgLd-",
        "colab_type": "text"
      },
      "cell_type": "markdown",
      "source": [
        "(*)¿Cuantas posibilidades hay sin tener en cuenta las restricciones?<br>\n",
        "\n",
        "\n",
        "\n",
        "¿Cuantas posibilidades hay teniendo en cuenta todas las restricciones.\n",
        "\n",
        "\n"
      ]
    },
    {
      "metadata": {
        "id": "WfCUqJyKhPcw",
        "colab_type": "text"
      },
      "cell_type": "markdown",
      "source": [
        "Respuesta"
      ]
    },
    {
      "metadata": {
        "id": "g0HjuxjdQdCg",
        "colab_type": "text"
      },
      "cell_type": "markdown",
      "source": [
        "Para calcular el número posible de soluciones es necesario saber algo de combinatoria y saber contar.\n",
        "\n",
        "Supondremos que N es el número de partidos."
      ]
    },
    {
      "metadata": {
        "id": "_4z7NwIXKkW_",
        "colab_type": "text"
      },
      "cell_type": "markdown",
      "source": [
        "### - (*)SIN RESTRICCIONES:\n",
        "\n",
        "Tomando N como el número de partidos, vamos a suponer 2 opciones:\n",
        "<br>\n",
        "<br>\n",
        "a) **Es posible repetir partidos**:\n",
        "\n",
        "En este caso, tendremos N posibilidades en cada horario, ya que no eliminamos el partido que ya se ha jugado. Por lo tanto, tendremos para el primer horario(viernes a las 20h) N posibilidades, para el segundo horario (sábado a las 12h) N posibilidades. Así, ya tendremos N x N posibilidades para 2 horarios distintos.\n",
        "\n",
        "Para los 10 horarios distintos que nos da el enunciado, tendremos:\n",
        "\n",
        "N x N x N x N x N x N x N x N x N x N = N^10\n",
        "\n",
        "Como nuestra N son 10 partidos, la solución será **10^10 posibilidades**.\n",
        "<br>\n",
        "<br>\n",
        "b) **No es posible repetir partidos**:\n",
        "\n",
        "En este caso, los partidos que se han jugado se eliminan de las posibilidades.\n",
        "\n",
        "Para el primer horario disponemos de N posibilidades, para el segundo horario disponemos de N-1 posibilidades, ya que debemos eliminar el partido que se ha jugado como posible candidato. Para el siguiente horario tenemos N-2 posibilidades... Así, ya tenemos N x (N-1) x (N-2) posibilidades para 3 horarios distintos.\n",
        "\n",
        "Para los 10 horarios que nos da el enunciado tendremos:\n",
        "\n",
        "N x (N-1) x (N-2) x (N-3) x (N-4) x (N-5) x (N-6) x (N-7) x (N-8) x (N-9) = N!\n",
        "\n",
        "Como nuestra N son 10 partidos, la solución será **10! posibilidades**."
      ]
    },
    {
      "metadata": {
        "id": "zhmErnedQoie",
        "colab_type": "text"
      },
      "cell_type": "markdown",
      "source": [
        "### - CON RESTRICCIONES:\n",
        "\n",
        "\n",
        "Tomando N como el número de partidos y recogiendo la restricción:\n",
        "\n",
        "' Debemos asignar obligatoriamente siempre un partido el viernes y un partido el lunes'\n",
        "\n",
        "Esta restricción se puede interpretar de varias formas:\n",
        "<br>\n",
        "<br>\n",
        "\n",
        "a) **Se tiene que jugar un partido obligatoriamente en viernes y lunes**:\n",
        "\n",
        "En este caso, se cumple lo mismo que en el caso en el que no hay restricciones, ya que el mayor número de posibilidades se da cuando hay un partido en cada horario, tenemos que:\n",
        "\n",
        "Si es posible repetir partidos: **10^10 posibilidades**.\n",
        "\n",
        "Si no es posible repetir partidos. **10! posibilidades**.\n",
        "<br>\n",
        "<br>\n",
        "\n",
        "b) **Se tiene que jugar un partido distinto el lunes y el viernes**:\n",
        "\n",
        "En este caso, las condiciones cambian un poco.\n",
        "\n",
        "\n",
        "Si es posible repetir partidos, salvo en el caso del lunes y el viernes, las posibilidades serían N para el viernes, N-1 para el lunes y N para el resto de horarios.\n",
        "\n",
        "Por lo tanto, tendríamos: **(N-1) x N^9 posibilidades** si fuera posible repetir partidos el resto de días.\n",
        "\n",
        "\n",
        "Si no es posible repetir partidos en ningún horario (tampoco en lunes y viernes), tenemos el mismo número de posibilidades que antes.\n",
        "\n",
        "En este caso, tendríamos **10! posibilidades** si no se puede repetir partidos en ningún horario."
      ]
    },
    {
      "metadata": {
        "id": "dwY1IseUhGwA",
        "colab_type": "text"
      },
      "cell_type": "markdown",
      "source": [
        "-------------------------------"
      ]
    },
    {
      "metadata": {
        "id": "dzynfVJahHoY",
        "colab_type": "text"
      },
      "cell_type": "markdown",
      "source": [
        "Modelo para el espacio de soluciones<br>\n",
        "(*) ¿Cual es la estructura de datos que mejor se adapta al problema? Argumentalo.(Es posible que hayas elegido una al principio y veas la necesidad de cambiar, arguentalo)\n"
      ]
    },
    {
      "metadata": {
        "id": "xFIJrOwKi2Ti",
        "colab_type": "text"
      },
      "cell_type": "markdown",
      "source": [
        "Respuesta"
      ]
    },
    {
      "metadata": {
        "id": "38c-7-ejhJmA",
        "colab_type": "code",
        "colab": {}
      },
      "cell_type": "code",
      "source": [
        ""
      ],
      "execution_count": 0,
      "outputs": []
    },
    {
      "metadata": {
        "id": "xffHs49YhJdQ",
        "colab_type": "text"
      },
      "cell_type": "markdown",
      "source": [
        "---------------------"
      ]
    },
    {
      "metadata": {
        "id": "7Z9U2W7bi-XS",
        "colab_type": "text"
      },
      "cell_type": "markdown",
      "source": [
        "Según el modelo para el espacio de soluciones<br>\n",
        "(*)¿Cual es la función objetivo?\n",
        "\n",
        "(*)¿Es un problema de maximización o minimización?"
      ]
    },
    {
      "metadata": {
        "id": "hBalWLM7j1_d",
        "colab_type": "text"
      },
      "cell_type": "markdown",
      "source": [
        "Respuesta"
      ]
    },
    {
      "metadata": {
        "id": "4Hem68vlYarX",
        "colab_type": "text"
      },
      "cell_type": "markdown",
      "source": [
        "### - (*) FUNCIÓN OBJETIVO:\n",
        "\n",
        "La función objetivo es la que nos proporciona **la audiencia**.\n",
        "\n",
        "Tenemos que organizar los horarios para buscar la mayor audiencia posible.\n",
        "\n",
        "Esta función objetivo es lineal entera.\n",
        "\n",
        "Audiencia=max(sum(ri*pi))=máx(0.4p1+0.55p2+0.7p3+0.8p4+1p5+0.45p6+0.75p7+0.85p8+1p9+0.4p10)\n",
        "\n",
        "Donde ri es la reducción que se aplica en cada horario\n",
        "\n",
        "Y pi es el partido que se juega en cada horario\n",
        "<br>\n",
        "<br>\n",
        "\n",
        "### - (*)  MAXIMIZACIÓN O MINIMIZACIÓN:\n",
        "\n",
        "Nuestra función objetivo es una función a **maximizar**.\n",
        "\n",
        "Vamos a intentar conseguir la mayor audiencia posible."
      ]
    },
    {
      "metadata": {
        "id": "ibK3wnYqhVMA",
        "colab_type": "text"
      },
      "cell_type": "markdown",
      "source": [
        "------------------------------"
      ]
    },
    {
      "metadata": {
        "id": "rlnTYgY1j6I2",
        "colab_type": "text"
      },
      "cell_type": "markdown",
      "source": [
        "Diseña un algoritmo para resolver el problema por fuerza bruta"
      ]
    },
    {
      "metadata": {
        "id": "70rDgxYXkC8r",
        "colab_type": "text"
      },
      "cell_type": "markdown",
      "source": [
        "Respuesta"
      ]
    },
    {
      "metadata": {
        "id": "CJb5sQ0qkENy",
        "colab_type": "code",
        "colab": {}
      },
      "cell_type": "code",
      "source": [
        ""
      ],
      "execution_count": 0,
      "outputs": []
    },
    {
      "metadata": {
        "id": "CRmQpFi3hY5Y",
        "colab_type": "text"
      },
      "cell_type": "markdown",
      "source": [
        "---------------------"
      ]
    },
    {
      "metadata": {
        "id": "tgrnsC2nkFa8",
        "colab_type": "text"
      },
      "cell_type": "markdown",
      "source": [
        "Calcula la complejidad del algoritmo por fuerza bruta"
      ]
    },
    {
      "metadata": {
        "id": "9eUd3xwckP68",
        "colab_type": "text"
      },
      "cell_type": "markdown",
      "source": [
        "Respuesta"
      ]
    },
    {
      "metadata": {
        "id": "LpTtWOBJ7IAA",
        "colab_type": "text"
      },
      "cell_type": "markdown",
      "source": [
        "La complejidad del algoritmo por fuerza bruta se calcula como el número de posibles soluciones. Ya que con el algoritmo de fuerza bruta buscamos analizar cada una de las soluciones para ver cuál es la mejor.\n",
        "\n",
        "En este caso, al considerar las restricciones y no repetir partidos. Tendríamos una complejidad O( N! ).\n",
        "\n",
        "En nuestro caso, como N es el número de partidos, tendríamos una complejidad **O (10!)**."
      ]
    },
    {
      "metadata": {
        "id": "S4xiit8ig6dB",
        "colab_type": "text"
      },
      "cell_type": "markdown",
      "source": [
        "------------------"
      ]
    },
    {
      "metadata": {
        "id": "txbrmLmskReM",
        "colab_type": "text"
      },
      "cell_type": "markdown",
      "source": [
        "(*)Diseña un algoritmo que mejore la complejidad del algortimo por fuerza bruta. Argumenta porque crees que mejora el algoritmo por fuerza bruta"
      ]
    },
    {
      "metadata": {
        "id": "hLrVwt5QkZPD",
        "colab_type": "text"
      },
      "cell_type": "markdown",
      "source": [
        "Respuesta"
      ]
    },
    {
      "metadata": {
        "id": "DGqIUuz_1QnD",
        "colab_type": "text"
      },
      "cell_type": "markdown",
      "source": [
        "El algoritmo a emplear para mejorar la complejidad del algoritmo por fuerza bruta, va a ser un **algoritmo voraz**.\n",
        "\n",
        "Estamos ante uno de los problemas que cumple que el conjunto de soluciones locales óptimas (por etapas) dan como resultado la solución global óptima. (Es un problema lineal)\n",
        "\n",
        "Una de las razones por las que mejora al algoritmo fuerza bruta, es porque dividimos el problema por etapas. En cada etapa seleccionamos la opción óptima y **descartamos todas las demás para siempre**. Esto simplifica mucho la complejidad. El algoritmo no mira en el futuro, busca la mejor opción en la etapa en la que se encuentra.\n",
        "\n",
        "El procedimiento es el siguiente: cuando nos llegan los datos de los partidos, los ordenamos en orden descendente en audiencia (ya tenemos las tasas de reducción ordenadas por orden descendente ya que son datos del problema). Para cada iteración, recorremos la lista de partidos, tomando el partido de mayor audiencia para la constante multiplicativa más grande.\n",
        "\n",
        "La suma de las audiencias de los partidos que seleccionamos horario a horario, nos dan la audiencia máxima (óptima)."
      ]
    },
    {
      "metadata": {
        "id": "m1eyM21Vkabg",
        "colab_type": "code",
        "colab": {
          "base_uri": "https://localhost:8080/",
          "height": 376
        },
        "outputId": "f9483450-2a7b-489c-c25e-eb4b95ca0527"
      },
      "cell_type": "code",
      "source": [
        "#LIBRERÍAS -------------------------------------------------------------------\n",
        "\n",
        "import pandas as pd\n",
        "from pandas import Series, DataFrame\n",
        "\n",
        "#DATOS DE ENTRADA ------------------------------------------------------------\n",
        "\n",
        "#Tasas de reducción en función del horario (ya ordenadas descendentemente)\n",
        "Reduccion=[1, 1, 0.85, 0.8, 0.75, 0.7, 0.55, 0.45, 0.4, 0.4]\n",
        "\n",
        "#Equivalencias\n",
        "AA=2\n",
        "AB=1.3\n",
        "AC=1\n",
        "BB=0.9\n",
        "BC=0.75\n",
        "CC=0.47\n",
        "\n",
        "\n",
        "#ANÁLISIS --------------------------------------------------------------------\n",
        "\n",
        "#Función que determina la máxima audiencia (VORAZ)\n",
        "def calcular_horario(Reduccion, Partidos):\n",
        "  \n",
        "  Partidos.sort(reverse=True)\n",
        "  \n",
        "  for i in range(len(Partidos)):\n",
        "    if i==0:\n",
        "      audiencia=0\n",
        "      \n",
        "    audiencia=audiencia+Partidos[i]*Reduccion[i]\n",
        "    audiencia=round(audiencia, 3)\n",
        "    \n",
        "  print ('Con el siguiente horario conseguimos la máxima audiencia ' + '(' + str(audiencia) + ' Mill ) ')\n",
        "    \n",
        "  return imprimir_horario(Reduccion,Partidos)\n",
        "\n",
        "\n",
        "#Función que imprime el horario ordenado por fecha\n",
        "def imprimir_horario(Reduccion,Partidos):\n",
        "  \n",
        "  for i in range(len(Partidos)):\n",
        "    \n",
        "    #Equivalencia de categoría\n",
        "    if Partidos[i]==2:\n",
        "      Partidos[i]='AA'\n",
        "    elif Partidos[i]==1.3:\n",
        "      Partidos[i]='AB'\n",
        "    elif Partidos[i]==1:\n",
        "      Partidos[i]='AC'\n",
        "    elif Partidos[i]==0.9:\n",
        "      Partidos[i]='BB'\n",
        "    elif Partidos[i]==0.75:\n",
        "      Partidos[i]='BC'\n",
        "    elif Partidos[i]==0.47:\n",
        "      Partidos[i]='CC'\n",
        "  \n",
        "  diccionario={'Partido': Partidos , 'Horario': ['Sábado 20:00h', 'Domingo 20:00h', 'Domingo 18:00h', 'Sábado 18:00h', 'Domingo 16:00h','Sábado 16:00h', 'Sábado 12:00h','Domingo 12:00h', 'Viernes 20:00h', 'Lunes 20:00h'], 'Orden': [5,9,8,4,7,3,2,6,1,10] }\n",
        "  frame=pd.DataFrame(diccionario)\n",
        "  frame=frame.sort_values(['Orden'])\n",
        "  del frame['Orden']\n",
        "  return frame\n",
        "  \n",
        "#PRUEBA ----------------------------------------------------------------------\n",
        "\n",
        "#Jornada a ordenar seleccionada para ese fin de semana (ejemplo)\n",
        "Partidos=[CC, BB, BB, AA, BB, BB, CC, AA, BB, CC]\n",
        "\n",
        "\n",
        "calcular_horario(Reduccion, Partidos)\n"
      ],
      "execution_count": 244,
      "outputs": [
        {
          "output_type": "stream",
          "text": [
            "Con el siguiente horario conseguimos la máxima audiencia (7.873 Mill ) \n"
          ],
          "name": "stdout"
        },
        {
          "output_type": "execute_result",
          "data": {
            "text/html": [
              "<div>\n",
              "<style scoped>\n",
              "    .dataframe tbody tr th:only-of-type {\n",
              "        vertical-align: middle;\n",
              "    }\n",
              "\n",
              "    .dataframe tbody tr th {\n",
              "        vertical-align: top;\n",
              "    }\n",
              "\n",
              "    .dataframe thead th {\n",
              "        text-align: right;\n",
              "    }\n",
              "</style>\n",
              "<table border=\"1\" class=\"dataframe\">\n",
              "  <thead>\n",
              "    <tr style=\"text-align: right;\">\n",
              "      <th></th>\n",
              "      <th>Horario</th>\n",
              "      <th>Partido</th>\n",
              "    </tr>\n",
              "  </thead>\n",
              "  <tbody>\n",
              "    <tr>\n",
              "      <th>8</th>\n",
              "      <td>Viernes 20:00h</td>\n",
              "      <td>CC</td>\n",
              "    </tr>\n",
              "    <tr>\n",
              "      <th>6</th>\n",
              "      <td>Sábado 12:00h</td>\n",
              "      <td>BB</td>\n",
              "    </tr>\n",
              "    <tr>\n",
              "      <th>5</th>\n",
              "      <td>Sábado 16:00h</td>\n",
              "      <td>BB</td>\n",
              "    </tr>\n",
              "    <tr>\n",
              "      <th>3</th>\n",
              "      <td>Sábado 18:00h</td>\n",
              "      <td>BB</td>\n",
              "    </tr>\n",
              "    <tr>\n",
              "      <th>0</th>\n",
              "      <td>Sábado 20:00h</td>\n",
              "      <td>AA</td>\n",
              "    </tr>\n",
              "    <tr>\n",
              "      <th>7</th>\n",
              "      <td>Domingo 12:00h</td>\n",
              "      <td>CC</td>\n",
              "    </tr>\n",
              "    <tr>\n",
              "      <th>4</th>\n",
              "      <td>Domingo 16:00h</td>\n",
              "      <td>BB</td>\n",
              "    </tr>\n",
              "    <tr>\n",
              "      <th>2</th>\n",
              "      <td>Domingo 18:00h</td>\n",
              "      <td>BB</td>\n",
              "    </tr>\n",
              "    <tr>\n",
              "      <th>1</th>\n",
              "      <td>Domingo 20:00h</td>\n",
              "      <td>AA</td>\n",
              "    </tr>\n",
              "    <tr>\n",
              "      <th>9</th>\n",
              "      <td>Lunes 20:00h</td>\n",
              "      <td>CC</td>\n",
              "    </tr>\n",
              "  </tbody>\n",
              "</table>\n",
              "</div>"
            ],
            "text/plain": [
              "          Horario Partido\n",
              "8  Viernes 20:00h      CC\n",
              "6   Sábado 12:00h      BB\n",
              "5   Sábado 16:00h      BB\n",
              "3   Sábado 18:00h      BB\n",
              "0   Sábado 20:00h      AA\n",
              "7  Domingo 12:00h      CC\n",
              "4  Domingo 16:00h      BB\n",
              "2  Domingo 18:00h      BB\n",
              "1  Domingo 20:00h      AA\n",
              "9    Lunes 20:00h      CC"
            ]
          },
          "metadata": {
            "tags": []
          },
          "execution_count": 244
        }
      ]
    },
    {
      "metadata": {
        "id": "k7Va9oLHg3N4",
        "colab_type": "text"
      },
      "cell_type": "markdown",
      "source": [
        "---------------"
      ]
    },
    {
      "metadata": {
        "id": "eGDB4K6uk1iN",
        "colab_type": "text"
      },
      "cell_type": "markdown",
      "source": [
        "(*)Calcula la complejidad del algoritmo "
      ]
    },
    {
      "metadata": {
        "id": "NhpTh_BPk1ms",
        "colab_type": "text"
      },
      "cell_type": "markdown",
      "source": [
        "Respuesta"
      ]
    },
    {
      "metadata": {
        "id": "2O0Sd6-U4FyQ",
        "colab_type": "text"
      },
      "cell_type": "markdown",
      "source": [
        "Lo que viene siendo el algoritmo voraz en sí, ubicado en la función calcular_horario, solo utilizamos un bucle for para recorrer la lista de partidos, por lo que tedríamos una complejidad de orden** O(n)**.<br> <br>\n",
        "\n",
        "Sin embargo, añadimos complejidad al tener que ordenar los datos de entrada. Buscando en la documentación de Python, se encuentra que el .sort tiene una complejidad O(n) en el mejor caso (lista ya ordenada) y O( N log (N) ) en el promedio y peor caso.<br>\n",
        "\n",
        "Hasta aquí, tenemos una complejidad **O( N^2 log (N) )**.<br><br>\n",
        "\n",
        "\n",
        "Al añadirle una función más con finalidad estética para mostrar los horarios de los partidos ordenados, aumentamos la complejidad. Esta función de imprimir_horario tiene una complejidad de orden O(n)\n",
        "\n",
        "En su totalidad, podríamos decir que el código presenta una complejidad O(N^3 log (N) ), que mejora bastante la complejidad de fuerza bruta. \n",
        "\n",
        "Tomando que N, equivale al número de partidos, que son 10, tenemos como complejidad : **O (10^3 log (10) )** en el promedio y peor de los casos."
      ]
    },
    {
      "metadata": {
        "id": "lXUDEsuEgzCR",
        "colab_type": "text"
      },
      "cell_type": "markdown",
      "source": [
        "-----------------"
      ]
    },
    {
      "metadata": {
        "id": "3M6QjTsSkmYe",
        "colab_type": "text"
      },
      "cell_type": "markdown",
      "source": [
        "Según el problema (y tenga sentido), diseña un juego de datos de entrada aleatorios"
      ]
    },
    {
      "metadata": {
        "id": "Jc3_OlyNkvjZ",
        "colab_type": "text"
      },
      "cell_type": "markdown",
      "source": [
        "Respuesta"
      ]
    },
    {
      "metadata": {
        "id": "_p0WUzkx8Xrk",
        "colab_type": "text"
      },
      "cell_type": "markdown",
      "source": [
        "Para nuestro problema (problema 2), generar unos datos de entrada aleatorios suponen generar una** jornada aleatoria** a la que aplicar nuestro algoritmo para ordenarla y conseguir la máxima audiencia.\n",
        "\n",
        "Tenemos como restricción, que sólo puede haber **4 equipos de categoría A, 10 equipos de categoría B y 6 equipos de categoría C**. Esta restricción he decidido resolverla iterativamente."
      ]
    },
    {
      "metadata": {
        "id": "sJ-N2etjkyWc",
        "colab_type": "code",
        "colab": {
          "base_uri": "https://localhost:8080/",
          "height": 34
        },
        "outputId": "b1b77cbc-4ada-45ad-f087-ec3507aca129"
      },
      "cell_type": "code",
      "source": [
        "import random\n",
        "\n",
        "\n",
        "\n",
        "def random_input_con_restricciones(N):\n",
        "  N=10\n",
        "  Partidos=[]\n",
        "  A=0\n",
        "  A1=0\n",
        "  A2=0\n",
        "  B=0\n",
        "  B1=0\n",
        "  C=0\n",
        "  \n",
        "  for i in range(N):\n",
        "   \n",
        "    if (A+A1+A2<4) and (A1+B+B1<10) and (A2+B1+C<6):       # ---> Si no se ha completado ninguna categoría\n",
        "      if (A+A1+A2<3) and (A1+B+B1<9) and (A2+B1+C<5):\n",
        "        Partidos.append(random.choice([AA, AB, BB, AC, BC, CC]))\n",
        "      elif (A+A1+A2<3) and (A1+B+B1<9):\n",
        "        Partidos.append(random.choice([AA,AB,AC,BB,BC]))\n",
        "      elif (A+A1+A2<3) and (A2+B1+C<5):\n",
        "        Partidos.append(random.choice([AA,AB,AC,BC,CC]))\n",
        "      elif (A2+B1+C<5) and (A1+B+B1<9):\n",
        "        Partidos.append(random.choice([AB,AC,BC,CC,BB]))\n",
        "      elif (A+A1+A2<3):\n",
        "        Partidos.append(random.choice([AB,AC,BC,AA]))\n",
        "      elif (A2+B1+C<5):\n",
        "        Partidos.append(random.choice([AB,AC,BC,CC]))\n",
        "      elif (A1+B+B1<9):\n",
        "        Partidos.append(random.choice([BB,AB,AC,BC]))\n",
        "\n",
        "    \n",
        "    if (A+A1+A2>=4) and (A1+B+B1<10) and (A2+B1+C<6):      # ---> Si se ha completado la categoría A\n",
        "      if (A2+B1+C<5) and (A1+B+B1<9):\n",
        "        Partidos.append(random.choice([BC,CC,BB]))\n",
        "      elif (A2+B1+C<5):\n",
        "        Partidos.append(random.choice([BC,CC]))\n",
        "      elif (A1+B+B1<9):\n",
        "        Partidos.append(random.choice([BC,BB]))\n",
        "\n",
        "      \n",
        "    if (A+A1+A2<4) and (A1+B+B1>=10) and (A2+B1+C<6):      # ---> Si se ha completado la categoría B\n",
        "      if (A+A1+A2<3) and (A2+B1+C<5):\n",
        "        Partidos.append(random.choice([AA,AC,CC]))\n",
        "      elif (A+A1+A2<3):\n",
        "        Partidos.append(random.choice([AA,AC]))\n",
        "      elif (A2+B1+C<5):\n",
        "        Partidos.append(random.choice([AC,CC]))\n",
        "      \n",
        "\n",
        "      \n",
        "    if (A+A1+A2<4) and (A1+B+B1<10) and (A2+B1+C>=6):      # ---> Si se ha completado la categoría C\n",
        "      if (A+A1+A2<3) and (A1+B+B1<9):\n",
        "        Partidos.append(random.choice([AA,AB,BB]))\n",
        "      elif (A+A1+A2<3):\n",
        "        Partidos.append(random.choice([AA,AB]))\n",
        "      elif (A1+B+B1<9):\n",
        "        Partidos.append(random.choice([AB,BB]))\n",
        "\n",
        "\n",
        "    \n",
        "    if (A+A1+A2>=4) and (A1+B+B1>=10) and (A2+B1+C<6):     # ---> Si se han completado 2/3 categorías\n",
        "      Partidos.append(random.choice([CC]))\n",
        "      \n",
        "    if (A+A1+A2<4) and (A1+B+B1>=10) and (A2+B1+C>=6):\n",
        "      Partidos.append(random.choice([AA]))\n",
        "    \n",
        "    if (A+A1+A2>=4) and (A1+B+B1<10) and (A2+B1+C>=6):\n",
        "      Partidos.append(random.choice([BB]))\n",
        "   \n",
        "      \n",
        "    #Contadores para que se cumplan las restricciones del número de equipos por categoría\n",
        "    \n",
        "    if Partidos[i] == AA :\n",
        "      A=A+2\n",
        "    \n",
        "            \n",
        "    elif Partidos[i]==AB:\n",
        "      A1=A1+1\n",
        "      \n",
        "      \n",
        "    elif Partidos[i]==AC:\n",
        "      A2=A2+1\n",
        "      \n",
        "      \n",
        "    elif Partidos[i]==BB:\n",
        "      B=B+2\n",
        "      \n",
        "      \n",
        "    elif Partidos[i]==BC:\n",
        "      B1=B1+1\n",
        "      \n",
        "      \n",
        "    elif Partidos[i]==CC:\n",
        "      C=C+2\n",
        "      \n",
        "      \n",
        "   \n",
        "  \n",
        "  return Partidos\n",
        "  \n",
        "random_input_con_restricciones(10)\n"
      ],
      "execution_count": 311,
      "outputs": [
        {
          "output_type": "execute_result",
          "data": {
            "text/plain": [
              "[2, 1, 0.9, 0.75, 1.3, 0.47, 0.9, 0.47, 0.9, 0.9]"
            ]
          },
          "metadata": {
            "tags": []
          },
          "execution_count": 311
        }
      ]
    },
    {
      "metadata": {
        "id": "9DS4pW_VoeHy",
        "colab_type": "text"
      },
      "cell_type": "markdown",
      "source": [
        "Si no fuese necesario seguir la restricción del número de equipos por categoría, el código se simplificaría mucho y quedaría algo así: **(sin restricciones)**"
      ]
    },
    {
      "metadata": {
        "id": "VkcTYCtIodaC",
        "colab_type": "code",
        "colab": {
          "base_uri": "https://localhost:8080/",
          "height": 34
        },
        "outputId": "3200af10-c194-4001-d611-f4d0f1d6a54a"
      },
      "cell_type": "code",
      "source": [
        "def random_input_sin_restricciones(N):\n",
        "  N=10\n",
        "  Partidos=[]\n",
        "  for i in range(N):\n",
        "    Partidos.append(random.choice([AA, AB, AC, BB, BC, CC]))\n",
        "  return Partidos\n",
        "\n",
        "random_input_sin_restricciones(10)"
      ],
      "execution_count": 307,
      "outputs": [
        {
          "output_type": "execute_result",
          "data": {
            "text/plain": [
              "[1, 0.9, 0.47, 1, 1, 2, 0.75, 0.47, 0.9, 0.75]"
            ]
          },
          "metadata": {
            "tags": []
          },
          "execution_count": 307
        }
      ]
    },
    {
      "metadata": {
        "id": "vzj480k4h3Qe",
        "colab_type": "text"
      },
      "cell_type": "markdown",
      "source": [
        "-----------------------------"
      ]
    },
    {
      "metadata": {
        "id": "zy5ZROmjlGo1",
        "colab_type": "text"
      },
      "cell_type": "markdown",
      "source": [
        "Aplica el algoritmo al juego de datos generado"
      ]
    },
    {
      "metadata": {
        "id": "_Cmj-PVylMsa",
        "colab_type": "text"
      },
      "cell_type": "markdown",
      "source": [
        "Respuesta"
      ]
    },
    {
      "metadata": {
        "id": "5G6pXWvNjx6t",
        "colab_type": "text"
      },
      "cell_type": "markdown",
      "source": [
        "Esto es algo tan sencillo como llamar a la función que creamos con el algoritmo y pasarle los datos de entrada aleatorios. **(con restricciones)**"
      ]
    },
    {
      "metadata": {
        "id": "Jkx8GeiYlUz1",
        "colab_type": "code",
        "colab": {
          "base_uri": "https://localhost:8080/",
          "height": 376
        },
        "outputId": "1e830203-ef8f-428f-ad8d-7b811f939a65"
      },
      "cell_type": "code",
      "source": [
        "Partidos = random_input_con_restricciones(10) #Datos de entrada aleatorios\n",
        "\n",
        "calcular_horario(Reduccion, Partidos) #Algoritmo voraz\n"
      ],
      "execution_count": 312,
      "outputs": [
        {
          "output_type": "stream",
          "text": [
            "Con el siguiente horario conseguimos la máxima audiencia (7.563 Mill ) \n"
          ],
          "name": "stdout"
        },
        {
          "output_type": "execute_result",
          "data": {
            "text/html": [
              "<div>\n",
              "<style scoped>\n",
              "    .dataframe tbody tr th:only-of-type {\n",
              "        vertical-align: middle;\n",
              "    }\n",
              "\n",
              "    .dataframe tbody tr th {\n",
              "        vertical-align: top;\n",
              "    }\n",
              "\n",
              "    .dataframe thead th {\n",
              "        text-align: right;\n",
              "    }\n",
              "</style>\n",
              "<table border=\"1\" class=\"dataframe\">\n",
              "  <thead>\n",
              "    <tr style=\"text-align: right;\">\n",
              "      <th></th>\n",
              "      <th>Horario</th>\n",
              "      <th>Partido</th>\n",
              "    </tr>\n",
              "  </thead>\n",
              "  <tbody>\n",
              "    <tr>\n",
              "      <th>8</th>\n",
              "      <td>Viernes 20:00h</td>\n",
              "      <td>BC</td>\n",
              "    </tr>\n",
              "    <tr>\n",
              "      <th>6</th>\n",
              "      <td>Sábado 12:00h</td>\n",
              "      <td>BC</td>\n",
              "    </tr>\n",
              "    <tr>\n",
              "      <th>5</th>\n",
              "      <td>Sábado 16:00h</td>\n",
              "      <td>BC</td>\n",
              "    </tr>\n",
              "    <tr>\n",
              "      <th>3</th>\n",
              "      <td>Sábado 18:00h</td>\n",
              "      <td>BB</td>\n",
              "    </tr>\n",
              "    <tr>\n",
              "      <th>0</th>\n",
              "      <td>Sábado 20:00h</td>\n",
              "      <td>AA</td>\n",
              "    </tr>\n",
              "    <tr>\n",
              "      <th>7</th>\n",
              "      <td>Domingo 12:00h</td>\n",
              "      <td>BC</td>\n",
              "    </tr>\n",
              "    <tr>\n",
              "      <th>4</th>\n",
              "      <td>Domingo 16:00h</td>\n",
              "      <td>BB</td>\n",
              "    </tr>\n",
              "    <tr>\n",
              "      <th>2</th>\n",
              "      <td>Domingo 18:00h</td>\n",
              "      <td>AB</td>\n",
              "    </tr>\n",
              "    <tr>\n",
              "      <th>1</th>\n",
              "      <td>Domingo 20:00h</td>\n",
              "      <td>AB</td>\n",
              "    </tr>\n",
              "    <tr>\n",
              "      <th>9</th>\n",
              "      <td>Lunes 20:00h</td>\n",
              "      <td>CC</td>\n",
              "    </tr>\n",
              "  </tbody>\n",
              "</table>\n",
              "</div>"
            ],
            "text/plain": [
              "          Horario Partido\n",
              "8  Viernes 20:00h      BC\n",
              "6   Sábado 12:00h      BC\n",
              "5   Sábado 16:00h      BC\n",
              "3   Sábado 18:00h      BB\n",
              "0   Sábado 20:00h      AA\n",
              "7  Domingo 12:00h      BC\n",
              "4  Domingo 16:00h      BB\n",
              "2  Domingo 18:00h      AB\n",
              "1  Domingo 20:00h      AB\n",
              "9    Lunes 20:00h      CC"
            ]
          },
          "metadata": {
            "tags": []
          },
          "execution_count": 312
        }
      ]
    },
    {
      "metadata": {
        "id": "RMbMhK8zpPJr",
        "colab_type": "text"
      },
      "cell_type": "markdown",
      "source": [
        "Y para el caso **sin restricciones** igual:"
      ]
    },
    {
      "metadata": {
        "id": "D2vbiF81pOSh",
        "colab_type": "code",
        "colab": {
          "base_uri": "https://localhost:8080/",
          "height": 376
        },
        "outputId": "71692fc8-25c8-4f17-d262-5e7dc9bcdb9e"
      },
      "cell_type": "code",
      "source": [
        "Partidos = random_input_sin_restricciones(10) #Datos de entrada aleatorios\n",
        "\n",
        "calcular_horario(Reduccion, Partidos) #Algoritmo voraz"
      ],
      "execution_count": 313,
      "outputs": [
        {
          "output_type": "stream",
          "text": [
            "Con el siguiente horario conseguimos la máxima audiencia (8.522 Mill ) \n"
          ],
          "name": "stdout"
        },
        {
          "output_type": "execute_result",
          "data": {
            "text/html": [
              "<div>\n",
              "<style scoped>\n",
              "    .dataframe tbody tr th:only-of-type {\n",
              "        vertical-align: middle;\n",
              "    }\n",
              "\n",
              "    .dataframe tbody tr th {\n",
              "        vertical-align: top;\n",
              "    }\n",
              "\n",
              "    .dataframe thead th {\n",
              "        text-align: right;\n",
              "    }\n",
              "</style>\n",
              "<table border=\"1\" class=\"dataframe\">\n",
              "  <thead>\n",
              "    <tr style=\"text-align: right;\">\n",
              "      <th></th>\n",
              "      <th>Horario</th>\n",
              "      <th>Partido</th>\n",
              "    </tr>\n",
              "  </thead>\n",
              "  <tbody>\n",
              "    <tr>\n",
              "      <th>8</th>\n",
              "      <td>Viernes 20:00h</td>\n",
              "      <td>BC</td>\n",
              "    </tr>\n",
              "    <tr>\n",
              "      <th>6</th>\n",
              "      <td>Sábado 12:00h</td>\n",
              "      <td>BC</td>\n",
              "    </tr>\n",
              "    <tr>\n",
              "      <th>5</th>\n",
              "      <td>Sábado 16:00h</td>\n",
              "      <td>BB</td>\n",
              "    </tr>\n",
              "    <tr>\n",
              "      <th>3</th>\n",
              "      <td>Sábado 18:00h</td>\n",
              "      <td>AC</td>\n",
              "    </tr>\n",
              "    <tr>\n",
              "      <th>0</th>\n",
              "      <td>Sábado 20:00h</td>\n",
              "      <td>AA</td>\n",
              "    </tr>\n",
              "    <tr>\n",
              "      <th>7</th>\n",
              "      <td>Domingo 12:00h</td>\n",
              "      <td>BC</td>\n",
              "    </tr>\n",
              "    <tr>\n",
              "      <th>4</th>\n",
              "      <td>Domingo 16:00h</td>\n",
              "      <td>AC</td>\n",
              "    </tr>\n",
              "    <tr>\n",
              "      <th>2</th>\n",
              "      <td>Domingo 18:00h</td>\n",
              "      <td>AB</td>\n",
              "    </tr>\n",
              "    <tr>\n",
              "      <th>1</th>\n",
              "      <td>Domingo 20:00h</td>\n",
              "      <td>AA</td>\n",
              "    </tr>\n",
              "    <tr>\n",
              "      <th>9</th>\n",
              "      <td>Lunes 20:00h</td>\n",
              "      <td>CC</td>\n",
              "    </tr>\n",
              "  </tbody>\n",
              "</table>\n",
              "</div>"
            ],
            "text/plain": [
              "          Horario Partido\n",
              "8  Viernes 20:00h      BC\n",
              "6   Sábado 12:00h      BC\n",
              "5   Sábado 16:00h      BB\n",
              "3   Sábado 18:00h      AC\n",
              "0   Sábado 20:00h      AA\n",
              "7  Domingo 12:00h      BC\n",
              "4  Domingo 16:00h      AC\n",
              "2  Domingo 18:00h      AB\n",
              "1  Domingo 20:00h      AA\n",
              "9    Lunes 20:00h      CC"
            ]
          },
          "metadata": {
            "tags": []
          },
          "execution_count": 313
        }
      ]
    },
    {
      "metadata": {
        "id": "aM4DL_Rkn25h",
        "colab_type": "text"
      },
      "cell_type": "markdown",
      "source": [
        "-----------------"
      ]
    },
    {
      "metadata": {
        "colab_type": "text",
        "id": "eTFWUJQrtGcv"
      },
      "cell_type": "markdown",
      "source": [
        "Enumera las referencias que has utilizado(si ha sido necesario) para llevar a cabo el trabajo"
      ]
    },
    {
      "metadata": {
        "id": "YKQ_mRBttWsP",
        "colab_type": "text"
      },
      "cell_type": "markdown",
      "source": [
        "Respuesta"
      ]
    },
    {
      "metadata": {
        "id": "kAkDPUyRtYyH",
        "colab_type": "text"
      },
      "cell_type": "markdown",
      "source": [
        "Describe brevemente las lineas de como crees que es posible avanzar en el estudio del problema. Ten en cuenta incluso posibles variaciones del problema y/o variaciones al alza del tamaño"
      ]
    },
    {
      "metadata": {
        "id": "IE0uZmo-tZu-",
        "colab_type": "text"
      },
      "cell_type": "markdown",
      "source": [
        "Respuesta"
      ]
    }
  ]
}