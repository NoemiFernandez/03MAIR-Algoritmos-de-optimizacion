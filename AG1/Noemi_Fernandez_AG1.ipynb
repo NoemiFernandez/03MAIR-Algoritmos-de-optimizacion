{
  "nbformat": 4,
  "nbformat_minor": 0,
  "metadata": {
    "colab": {
      "name": "Noemi_Fernandez-AG1.ipynb",
      "version": "0.3.2",
      "provenance": [],
      "collapsed_sections": [],
      "include_colab_link": true
    },
    "kernelspec": {
      "name": "python3",
      "display_name": "Python 3"
    }
  },
  "cells": [
    {
      "cell_type": "markdown",
      "metadata": {
        "id": "view-in-github",
        "colab_type": "text"
      },
      "source": [
        "<a href=\"https://colab.research.google.com/github/NoemiFernandez/03MAIR-Algoritmos-de-optimizacion/blob/master/AG1/Noemi_Fernandez_AG1.ipynb\" target=\"_parent\"><img src=\"https://colab.research.google.com/assets/colab-badge.svg\" alt=\"Open In Colab\"/></a>"
      ]
    },
    {
      "metadata": {
        "id": "jypgAVrNajtL",
        "colab_type": "text"
      },
      "cell_type": "markdown",
      "source": [
        "**AG1- Actividad Guiada 1** <br>\n",
        "**Noemi Fernández Gil** <br>\n",
        "**URL: https://github.com/NoemiFernandez/03MAIR-Algoritmos-de-optimizacion/blob/master/AG1/Noemi_Fernandez_AG1.ipynb**"
      ]
    },
    {
      "metadata": {
        "id": "SdHqjGzZbGmi",
        "colab_type": "code",
        "outputId": "4bfa1ea3-7c01-48dc-a297-78dbb9ef1ca1",
        "colab": {
          "base_uri": "https://localhost:8080/",
          "height": 51
        }
      },
      "cell_type": "code",
      "source": [
        "import statistics as stats\n",
        "\n",
        "#Algoritmo quick_sort con la técnica divide y vencerás\n",
        "\n",
        "A = [9187, 244, 4054, 9222, 8373, 4993, 5265, 5470, 4519, 7182, 2035, 3506, 4337, 7580, 2554, 2824, 8357, 4447, 7379]\n",
        "\n",
        "def quick_sort(A):\n",
        "  \n",
        "  #Preguntamos por la longitud de la lista\n",
        "  if len(A) == 1:\n",
        "    return A\n",
        "    \n",
        "  elif len(A) == 2:\n",
        "    return[min(A), max(A)]\n",
        "  \n",
        "  #Definimos las 2 listas en las que dividimos el problema\n",
        "  IZQ=[]\n",
        "  DER=[]\n",
        "  \n",
        "  #Definimos el pivote            --> MEJORADO (definimos el pivote como la media aritmética)\n",
        "  pivote= (stats.mean(A))\n",
        "  \n",
        "  #Debemos recorrer toda la lista para separarlo en 2 listas\n",
        "  for i in A:\n",
        "    if i<pivote:\n",
        "      IZQ.append(i)\n",
        "    else:\n",
        "      DER.append(i)\n",
        " \n",
        "  #Combinamos las 2 listas\n",
        "  return quick_sort(IZQ) + quick_sort(DER)\n",
        "  \n",
        "\n",
        "#Decorador de Isabel para calcular el tiempo\n",
        "@calcular_tiempo\n",
        "def QS(A):\n",
        "  return quick_sort(A)\n",
        "\n",
        "print(QS(A))"
      ],
      "execution_count": 34,
      "outputs": [
        {
          "output_type": "stream",
          "text": [
            "Tiempo de ejecución para algoritmo: 0.0003154277801513672\n",
            "[244, 2035, 2554, 2824, 3506, 4054, 4337, 4447, 4519, 4993, 5265, 5470, 7182, 7379, 7580, 8357, 8373, 9187, 9222]\n"
          ],
          "name": "stdout"
        }
      ]
    },
    {
      "metadata": {
        "id": "8D7FygI2f3gM",
        "colab_type": "code",
        "colab": {}
      },
      "cell_type": "code",
      "source": [
        "#Decorador para calcular_tiempo a la función para la cual queremos calcular el tiempo de ejecución(Isabel Vázquez)\n",
        "\n",
        "from time import time\n",
        "#Función para calcular el tiempo de ejecución\n",
        "def calcular_tiempo(f):\n",
        "   \n",
        "    def wrapper(*args, **kwargs):        \n",
        "        inicio = time()       \n",
        "        resultado = f(*args, **kwargs)       \n",
        "        tiempo = time() - inicio\n",
        "        print(\"Tiempo de ejecución para algoritmo: \"+str(tiempo))\n",
        "        return resultado\n",
        "    \n",
        "    return wrapper\n",
        "from time import time"
      ],
      "execution_count": 0,
      "outputs": []
    },
    {
      "metadata": {
        "id": "3f5TBXB9jbMf",
        "colab_type": "code",
        "colab": {
          "base_uri": "https://localhost:8080/",
          "height": 51
        },
        "outputId": "81fe9eeb-bcfe-40d1-a737-b1bc08c2dada"
      },
      "cell_type": "code",
      "source": [
        "#Algoritmo voraz monedas\n",
        "\n",
        "SISTEMA=[25,10,5,1]\n",
        "\n",
        "#Inicializamos a 0 la solución\n",
        "SOLUCION=[0 for i in range(len(SISTEMA))]\n",
        "\n",
        "\n",
        "@calcular_tiempo\n",
        "\n",
        "#Definimos la función con cantidad y lista de sistemas monetarios\n",
        "def cambio_monedas(C,SISTEMA):\n",
        "  \n",
        "  #Recorremos el sistema monetario (indice,valor)\n",
        "  for i,j in enumerate(SISTEMA):\n",
        "    SOLUCION[i]=C//j                        # ---> MEJORADO (reducidos el número de asignaciones y operaciones)\n",
        "    C=C-SOLUCION[i]*j\n",
        "   \n",
        "    \n",
        "    #Paramos si obtenemos la cantidad\n",
        "    if C==0:\n",
        "      return SOLUCION\n",
        "      \n",
        "cambio_monedas(101,SISTEMA)\n",
        "#Se ha conseguido reducir el tiempo"
      ],
      "execution_count": 83,
      "outputs": [
        {
          "output_type": "stream",
          "text": [
            "Tiempo de ejecución para algoritmo: 1.8835067749023438e-05\n"
          ],
          "name": "stdout"
        },
        {
          "output_type": "execute_result",
          "data": {
            "text/plain": [
              "[4, 0, 0, 1]"
            ]
          },
          "metadata": {
            "tags": []
          },
          "execution_count": 83
        }
      ]
    },
    {
      "metadata": {
        "id": "OVLdIUBGmdHV",
        "colab_type": "code",
        "outputId": "e6031f8d-685b-44be-9ad8-6fc49c12f2da",
        "colab": {
          "base_uri": "https://localhost:8080/",
          "height": 391
        }
      },
      "cell_type": "code",
      "source": [
        "#Algoritmo vuelta atrás 4 reinas\n",
        "\n",
        "#Valores iniciales\n",
        "N=input('Introduzca el número de reinas: ') #---> MODIFICACIÓN: Se introduce el número de reinas por teclado\n",
        "N=int(N)\n",
        "#Inicializamos la solución y etapa a 0\n",
        "solucion = [0 for i in range(N) ]\n",
        "etapa=0\n",
        "\n",
        "#Función que verifica las restricciones\n",
        "def es_prometedora(SOLUCION, etapa):\n",
        "  for i in range(etapa+1):\n",
        "    if SOLUCION.count(SOLUCION[i]) > 1: return False  #Verifica las filas (cuenta el número de ocurrencias)\n",
        "    \n",
        "    #Verifica las diagonales\n",
        "    for j in range(i+1, etapa+1):\n",
        "      if abs(i-j) == abs(SOLUCION[i]-SOLUCION[j]): return False\n",
        "  return True\n",
        "\n",
        "#Función que dibuja el tablero\n",
        "def escribe(S):\n",
        "  n=len(S)\n",
        "  for x in range(n):\n",
        "    print(\"\")\n",
        "    for i in range(n):\n",
        "      if solucion[i] == x+1:\n",
        "        print(' X ', end='')\n",
        "      else:\n",
        "        print(' - ', end='')\n",
        "          \n",
        "  \n",
        "#Definimos la función con el número de reinas, solución a la que llegamos y la etapa en la que nos encontramos\n",
        "def reinas(N, solucion, etapa):\n",
        "  \n",
        "  for i in range(1, N+1):\n",
        "    solucion[etapa]= i\n",
        "    \n",
        "  \n",
        "    if es_prometedora(solucion,etapa):\n",
        "   \n",
        "      if etapa == N-1:\n",
        "        print('\\n\\nUna posible solución es :')\n",
        "        print(solucion)\n",
        "        print('\\n Gráficamente:')\n",
        "        escribe(solucion)\n",
        "      else:\n",
        "        reinas(N, solucion, etapa+1)\n",
        "    else:\n",
        "      None\n",
        "    \n",
        "    solucion[etapa]=0\n",
        "  \n",
        "reinas(N, solucion, etapa)"
      ],
      "execution_count": 109,
      "outputs": [
        {
          "output_type": "stream",
          "text": [
            "Introduzca el número de reinas: 4\n",
            "\n",
            "\n",
            "Una posible solución es :\n",
            "[2, 4, 1, 3]\n",
            "\n",
            " Gráficamente:\n",
            "\n",
            " -  -  X  - \n",
            " X  -  -  - \n",
            " -  -  -  X \n",
            " -  X  -  - \n",
            "\n",
            "Una posible solución es :\n",
            "[3, 1, 4, 2]\n",
            "\n",
            " Gráficamente:\n",
            "\n",
            " -  X  -  - \n",
            " -  -  -  X \n",
            " X  -  -  - \n",
            " -  -  X  - "
          ],
          "name": "stdout"
        }
      ]
    }
  ]
}