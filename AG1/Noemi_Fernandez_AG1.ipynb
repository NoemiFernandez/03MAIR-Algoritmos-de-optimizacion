{
  "nbformat": 4,
  "nbformat_minor": 0,
  "metadata": {
    "colab": {
      "name": "Noemi_Fernandez-AG1.ipynb",
      "version": "0.3.2",
      "provenance": [],
      "include_colab_link": true
    },
    "kernelspec": {
      "name": "python3",
      "display_name": "Python 3"
    }
  },
  "cells": [
    {
      "cell_type": "markdown",
      "metadata": {
        "id": "view-in-github",
        "colab_type": "text"
      },
      "source": [
        "<a href=\"https://colab.research.google.com/github/NoemiFernandez/03MAIR-Algoritmos-de-optimizacion/blob/master/AG1/Noemi_Fernandez_AG1.ipynb\" target=\"_parent\"><img src=\"https://colab.research.google.com/assets/colab-badge.svg\" alt=\"Open In Colab\"/></a>"
      ]
    },
    {
      "metadata": {
        "id": "jypgAVrNajtL",
        "colab_type": "text"
      },
      "cell_type": "markdown",
      "source": [
        "**AG1- Actividad Guiada 1** <br>\n",
        "**Noemi Fernández Gil** <br>\n",
        "**URL: https://github.com/NoemiFernandez/03MAIR-Algoritmos-de-optimizacion/tree/master/AG1**"
      ]
    },
    {
      "metadata": {
        "id": "SdHqjGzZbGmi",
        "colab_type": "code",
        "colab": {
          "base_uri": "https://localhost:8080/",
          "height": 71
        },
        "outputId": "846cb27a-4d7e-40d4-8418-a666a4702e40"
      },
      "cell_type": "code",
      "source": [
        "#Algoritmo quick_sort\n",
        "\n",
        "A = [9187, 244, 4054, 9222, 8373, 4993, 5265, 5470, 4519, 7182, 2035, 3506, 4337, 7580, 2554, 2824, 8357, 4447, 7379]\n",
        "\n",
        "def quick_sort(A):\n",
        "  \n",
        "  #Preguntamos por la longitud de la lista\n",
        "  if len(A) == 1:\n",
        "    return A\n",
        "    \n",
        "  elif len(A) == 2:\n",
        "    return[min(A), max(A)]\n",
        "  \n",
        "  #Elegimos el pivote (que divide la lista) - valor medio de 3 elementos  --> Podría elegirse la mediana\n",
        "  pivote=(A[0]+A[1]+A[2])/3\n",
        "  \n",
        "  #Definimos las 2 listas\n",
        "  IZQ=[]\n",
        "  DER=[]\n",
        "  \n",
        "  \n",
        "  #Debemos recorrer toda la lista para separarlo en 2 listas\n",
        "  for i in A:\n",
        "    if i<pivote:    #--> Juntar esto en una línea comprehension\n",
        "      IZQ.append(i)\n",
        "    else:\n",
        "      DER.append(i)\n",
        "  \n",
        "  #Combinamos las 2 listas\n",
        "  return quick_sort(IZQ) + quick_sort(DER)\n",
        "  \n",
        "\n",
        "#Decorador de Isabel para calcular el tiempo\n",
        "@calcular_tiempo\n",
        "def QS(A):\n",
        "  return quick_sort(A)\n",
        "\n",
        "print(QS(A))"
      ],
      "execution_count": 7,
      "outputs": [
        {
          "output_type": "stream",
          "text": [
            "Tiempo de ejecución para algoritmo: 3.2901763916015625e-05\n",
            "[244, 2035, 2554, 2824, 3506, 4054, 4337, 4447, 4519, 4993, 5265, 5470, 7182, 7379, 7580, 8357, 8373, 9187, 9222]\n"
          ],
          "name": "stdout"
        }
      ]
    },
    {
      "metadata": {
        "id": "8D7FygI2f3gM",
        "colab_type": "code",
        "colab": {}
      },
      "cell_type": "code",
      "source": [
        "#Decorador para calcular_tiempo a la función para la cual queremos calcular el tiempo de ejecución(Isabel Vázquez)\n",
        "\n",
        "from time import time\n",
        "#Función para calcular el tiempo de ejecución\n",
        "def calcular_tiempo(f):\n",
        "   \n",
        "    def wrapper(*args, **kwargs):        \n",
        "        inicio = time()       \n",
        "        resultado = f(*args, **kwargs)       \n",
        "        tiempo = time() - inicio\n",
        "        print(\"Tiempo de ejecución para algoritmo: \"+str(tiempo))\n",
        "        return resultado\n",
        "    \n",
        "    return wrapper\n",
        "from time import time"
      ],
      "execution_count": 0,
      "outputs": []
    },
    {
      "metadata": {
        "id": "NxXuWP4DjWLo",
        "colab_type": "code",
        "colab": {
          "base_uri": "https://localhost:8080/",
          "height": 51
        },
        "outputId": "28257ab8-5cc7-4d87-c45b-b39af4d5a1ca"
      },
      "cell_type": "code",
      "source": [
        "# Algoritmo voraz monedas\n",
        "\n",
        "SISTEMA=[25, 10, 5,1]\n",
        "\n",
        "@calcular_tiempo\n",
        "#Definimos la función con cantidad y lista de sistemas monetarios\n",
        "def cambio_monedas(C, SISTEMA):\n",
        "  \n",
        "  #Solución inicializada a cero\n",
        "  SOLUCION=[0 for i in range(len(SISTEMA))]\n",
        "  \n",
        "  #Variable acumulable inicializada a cero\n",
        "  VALOR_ACUMULADO=0\n",
        "  \n",
        "  #Recorremos el sistema monetario\n",
        "  for i in range(len(SISTEMA)):\n",
        "    monedas = int((C-VALOR_ACUMULADO)/SISTEMA[i])\n",
        "    SOLUCION[i] = monedas\n",
        "    VALOR_ACUMULADO += monedas*SISTEMA[i]\n",
        "    \n",
        "    #Paramos si obtenemos la cantidad\n",
        "    if C==VALOR_ACUMULADO:\n",
        "      return SOLUCION\n",
        "  \n",
        "cambio_monedas(101,SISTEMA)"
      ],
      "execution_count": 15,
      "outputs": [
        {
          "output_type": "stream",
          "text": [
            "Tiempo de ejecución para algoritmo: 1.0013580322265625e-05\n"
          ],
          "name": "stdout"
        },
        {
          "output_type": "execute_result",
          "data": {
            "text/plain": [
              "[4, 0, 0, 1]"
            ]
          },
          "metadata": {
            "tags": []
          },
          "execution_count": 15
        }
      ]
    },
    {
      "metadata": {
        "id": "OVLdIUBGmdHV",
        "colab_type": "code",
        "colab": {}
      },
      "cell_type": "code",
      "source": [
        "#Algoritmo vuelta atrás 4 reinas\n",
        "\n",
        "#Valores iniciales\n",
        "N=4\n",
        "solucion=[0 for i in range(N)]\n",
        "etapa=0\n",
        "\n",
        "def es_prometedora(SOLUCION, etapa):\n",
        "  for i in range(etapa+1):\n",
        "    if SOLUCION.count(SOLUCION[i])>1 : return False\n",
        "    \n",
        "    #Verifica las diagonales\n",
        "    for j in range(i+1, etapa+1):\n",
        "      if abs(i-j) == abs(SOLUCION[i]-SOLUCION[j]): return False\n",
        "    return True\n",
        "\n",
        "\n",
        "#Definimos la función con el número de reinas, solución a la que llegamos y la etapa en la que nos encontramos\n",
        "def reinas(N, solucion, etapa):\n",
        "  \n",
        "  for i in range(1, N+1):\n",
        "    solucion[etapa]= i\n",
        "    \n",
        "  \n",
        "  if es_prometedora(solucion,etapa):\n",
        "   \n",
        "    if etapa == N-1:\n",
        "      print('La solución es : \\n')\n",
        "      print(solucion)\n",
        "      escribe(solucion)\n",
        "    else:\n",
        "      reinas(N, solucion, etapa+1)\n",
        "  else:\n",
        "    None\n",
        "    \n",
        "  solucion[etapa]=0\n",
        "  \n",
        "  \n",
        "reinas(N, solucion, etapa)\n",
        "  "
      ],
      "execution_count": 0,
      "outputs": []
    }
  ]
}